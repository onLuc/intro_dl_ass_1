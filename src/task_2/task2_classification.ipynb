{
 "cells": [
  {
   "cell_type": "code",
   "id": "initial_id",
   "metadata": {
    "collapsed": true,
    "ExecuteTime": {
     "end_time": "2025-10-07T13:22:47.080757Z",
     "start_time": "2025-10-07T13:22:36.663896Z"
    }
   },
   "source": [
    "import tensorflow as tf\n",
    "from tensorflow import keras\n",
    "import pandas as pd\n",
    "import numpy as np\n",
    "import matplotlib.pyplot as plt\n",
    "import sklearn\n",
    "import math\n",
    "from sklearn.model_selection import train_test_split\n",
    "print(f\"Tensorflow version: \\t{tf.__version__}\")\n",
    "print(f\"Keras version: \\t\\t\\t{keras.__version__}\")"
   ],
   "outputs": [
    {
     "name": "stdout",
     "output_type": "stream",
     "text": [
      "Tensorflow version: \t2.20.0\n",
      "Keras version: \t\t\t3.11.3\n"
     ]
    }
   ],
   "execution_count": 1
  },
  {
   "metadata": {
    "ExecuteTime": {
     "end_time": "2025-10-07T13:22:47.345067Z",
     "start_time": "2025-10-07T13:22:47.146873Z"
    }
   },
   "cell_type": "code",
   "source": [
    "# Load data\n",
    "\n",
    "images = np.load(\"../A1_data_75/images.npy\")\n",
    "labels = np.load(\"../A1_data_75/labels.npy\")"
   ],
   "id": "2a83f06a7e3adcfa",
   "outputs": [],
   "execution_count": 2
  },
  {
   "metadata": {
    "ExecuteTime": {
     "end_time": "2025-10-07T13:22:53.911151Z",
     "start_time": "2025-10-07T13:22:52.578308Z"
    }
   },
   "cell_type": "code",
   "source": [
    "# Process to segment into train, test, and validation sets\n",
    "images = images / 255.0\n",
    "\n",
    "X_train, X_temp, y_train, y_temp = train_test_split(images,labels,\n",
    "                                         random_state=19,\n",
    "                                         test_size=0.2,\n",
    "                                         shuffle=True)\n",
    "\n",
    "X_val, X_test, y_val, y_test = train_test_split(X_temp, y_temp,\n",
    "                                       test_size=0.5,\n",
    "                                       shuffle=True)\n",
    "\n",
    "print(X_train.shape, y_train.shape)\n",
    "print(X_val.shape, y_val.shape)\n",
    "print(X_test.shape, y_test.shape)"
   ],
   "id": "453914cf6ec623a7",
   "outputs": [
    {
     "name": "stdout",
     "output_type": "stream",
     "text": [
      "(14400, 75, 75) (14400, 2)\n",
      "(1800, 75, 75) (1800, 2)\n",
      "(1800, 75, 75) (1800, 2)\n"
     ]
    }
   ],
   "execution_count": 3
  },
  {
   "metadata": {
    "ExecuteTime": {
     "end_time": "2025-10-07T13:22:55.098252Z",
     "start_time": "2025-10-07T13:22:55.080798Z"
    }
   },
   "cell_type": "code",
   "source": [
    "def class_convert(y, interval=30):\n",
    "    vals = []\n",
    "\n",
    "    for hr, min in y:\n",
    "        # Assigns a value in range 0, 23 for each hour minute combination, resulting in 24*60/interval classes. 0 for 0-30 min, 1 for 30 min-1 hr for interval=30, etc.\n",
    "        classification_val = math.floor(min/interval + hr*60/interval)\n",
    "        vals.append(classification_val)\n",
    "        # print(f\"Actual value: {hr} hours, {min} minutes\")\n",
    "        # print(f\"Corresponding label for classification: {classification_val}\")\n",
    "    return vals\n",
    "\n",
    "conv_y_test = class_convert(y_test)"
   ],
   "id": "19f9bb162c404abc",
   "outputs": [],
   "execution_count": 4
  },
  {
   "metadata": {},
   "cell_type": "code",
   "outputs": [],
   "execution_count": null,
   "source": "",
   "id": "79ab0553225fed7c"
  }
 ],
 "metadata": {
  "kernelspec": {
   "display_name": "Python 3",
   "language": "python",
   "name": "python3"
  },
  "language_info": {
   "codemirror_mode": {
    "name": "ipython",
    "version": 2
   },
   "file_extension": ".py",
   "mimetype": "text/x-python",
   "name": "python",
   "nbconvert_exporter": "python",
   "pygments_lexer": "ipython2",
   "version": "2.7.6"
  }
 },
 "nbformat": 4,
 "nbformat_minor": 5
}
